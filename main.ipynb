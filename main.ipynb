{
 "cells": [
  {
   "cell_type": "code",
   "execution_count": 135,
   "id": "initial_id",
   "metadata": {
    "ExecuteTime": {
     "end_time": "2024-10-13T14:44:22.940005Z",
     "start_time": "2024-10-13T14:44:22.937972Z"
    },
    "collapsed": true,
    "jupyter": {
     "outputs_hidden": true
    }
   },
   "outputs": [],
   "source": [
    "import pandas as pd\n",
    "import matplotlib.pyplot as plt\n",
    "import numpy as np"
   ]
  },
  {
   "cell_type": "code",
   "execution_count": 31,
   "id": "2c0e213d91616524",
   "metadata": {
    "ExecuteTime": {
     "end_time": "2024-10-13T12:57:59.834239Z",
     "start_time": "2024-10-13T12:56:26.585118Z"
    }
   },
   "outputs": [
    {
     "name": "stdout",
     "output_type": "stream",
     "text": [
      "CPU times: total: 1min 2s\n",
      "Wall time: 1min 33s\n"
     ]
    }
   ],
   "source": [
    "%%time\n",
    "\n",
    "dtypes = {\n",
    "    \"row_id\": \"int64\",\n",
    "    \"timestamp\": \"int64\",\n",
    "    \"user_id\": \"int32\",\n",
    "    \"content_id\": \"int16\",\n",
    "    \"content_type_id\": \"int8\",\n",
    "    \"task_container_id\": \"int16\",\n",
    "    \"user_answer\": \"int8\",\n",
    "    \"answered_correctly\": \"int8\",\n",
    "    \"prior_question_elapsed_time\": \"float32\", \n",
    "    \"prior_question_had_explanation\": \"boolean\"\n",
    "}\n",
    "\n",
    "data = pd.read_csv(\"resources/train.csv\", dtype=dtypes)\n"
   ]
  },
  {
   "cell_type": "code",
   "execution_count": 32,
   "id": "2bc487be864a3fe2",
   "metadata": {
    "ExecuteTime": {
     "end_time": "2024-10-13T12:57:59.881283Z",
     "start_time": "2024-10-13T12:57:59.866236Z"
    }
   },
   "outputs": [
    {
     "name": "stdout",
     "output_type": "stream",
     "text": [
      "<class 'pandas.core.frame.DataFrame'>\n",
      "RangeIndex: 101230332 entries, 0 to 101230331\n",
      "Data columns (total 10 columns):\n",
      " #   Column                          Dtype  \n",
      "---  ------                          -----  \n",
      " 0   row_id                          int64  \n",
      " 1   timestamp                       int64  \n",
      " 2   user_id                         int32  \n",
      " 3   content_id                      int16  \n",
      " 4   content_type_id                 int8   \n",
      " 5   task_container_id               int16  \n",
      " 6   user_answer                     int8   \n",
      " 7   answered_correctly              int8   \n",
      " 8   prior_question_elapsed_time     float32\n",
      " 9   prior_question_had_explanation  boolean\n",
      "dtypes: boolean(1), float32(1), int16(2), int32(1), int64(2), int8(3)\n",
      "memory usage: 3.1 GB\n",
      "Train size: (101230332, 10)\n"
     ]
    }
   ],
   "source": [
    "data.info()\n",
    "print(\"Train size:\", data.shape)"
   ]
  },
  {
   "cell_type": "code",
   "execution_count": 33,
   "id": "4462dd9c04835cf4",
   "metadata": {
    "ExecuteTime": {
     "end_time": "2024-10-13T12:58:00.254843Z",
     "start_time": "2024-10-13T12:57:59.909912Z"
    }
   },
   "outputs": [],
   "source": [
    "train = data.copy()"
   ]
  },
  {
   "cell_type": "code",
   "execution_count": 34,
   "id": "85c303a2f475b533",
   "metadata": {
    "ExecuteTime": {
     "end_time": "2024-10-13T12:58:00.283120Z",
     "start_time": "2024-10-13T12:58:00.268828Z"
    }
   },
   "outputs": [
    {
     "name": "stdout",
     "output_type": "stream",
     "text": [
      "Train size: (13523, 5)\n",
      "CPU times: total: 0 ns\n",
      "Wall time: 12 ms\n"
     ]
    }
   ],
   "source": [
    "%%time\n",
    "\n",
    "questions = pd.read_csv(\"resources/questions.csv\", dtype=dtypes)\n",
    "\n",
    "print(\"Train size:\", questions.shape)"
   ]
  },
  {
   "cell_type": "code",
   "execution_count": 35,
   "id": "819189abcd53905b",
   "metadata": {
    "ExecuteTime": {
     "end_time": "2024-10-13T12:58:00.305355Z",
     "start_time": "2024-10-13T12:58:00.299878Z"
    }
   },
   "outputs": [
    {
     "name": "stdout",
     "output_type": "stream",
     "text": [
      "Train size: (13523, 5)\n",
      "CPU times: total: 0 ns\n",
      "Wall time: 3 ms\n"
     ]
    }
   ],
   "source": [
    "%%time\n",
    "\n",
    "lectures = pd.read_csv(\"resources/lectures.csv\", dtype=dtypes)\n",
    "\n",
    "print(\"Train size:\", questions.shape)"
   ]
  },
  {
   "cell_type": "markdown",
   "id": "959db2521371e821",
   "metadata": {},
   "source": [
    "---"
   ]
  },
  {
   "cell_type": "markdown",
   "id": "f6f686b89c75d6fa",
   "metadata": {},
   "source": [
    "1. Сколько человек прошло тест (+ в разрезе курсов)\n",
    "2. Рейтинг по пользователям (топ по правильным, топ по плохим, среднее время прохождения (+ топы по времени))\n",
    "3. Топ сложных вопросов (больше всего неправильных ответов)\n",
    "4. Корреляция правильных ответов и присутствия на лекции"
   ]
  },
  {
   "cell_type": "markdown",
   "id": "3e9817314472ff",
   "metadata": {},
   "source": [
    "### **Описание таблицы Метрики пользователей**\n",
    "\n",
    "`timestamp` - не понял\n",
    "\n",
    "`content_id` - ссылка на вопрос (`questions.question_id`) или лекцию (`lectures.lecture_id`)\n",
    "\n",
    "`content_type_id` - тип задачи; `0` - вопрос, `1` - лекция\n",
    "\n",
    "`task_container_id` - группировка вопросов (пачка вопрос на которые надо ответить прежде чем увидишь объяснение)\n",
    "\n",
    "`user_answer` - `-1` у лекций, в остальном любое значение\n",
    "\n",
    "`answered_correctly` - `-1` у лекций; `0` - ошибка, `1` - правильно"
   ]
  },
  {
   "cell_type": "code",
   "execution_count": 36,
   "id": "de3394b89eff238c",
   "metadata": {
    "ExecuteTime": {
     "end_time": "2024-10-13T12:58:00.341123Z",
     "start_time": "2024-10-13T12:58:00.332567Z"
    }
   },
   "outputs": [
    {
     "data": {
      "text/html": [
       "<div>\n",
       "<style scoped>\n",
       "    .dataframe tbody tr th:only-of-type {\n",
       "        vertical-align: middle;\n",
       "    }\n",
       "\n",
       "    .dataframe tbody tr th {\n",
       "        vertical-align: top;\n",
       "    }\n",
       "\n",
       "    .dataframe thead th {\n",
       "        text-align: right;\n",
       "    }\n",
       "</style>\n",
       "<table border=\"1\" class=\"dataframe\">\n",
       "  <thead>\n",
       "    <tr style=\"text-align: right;\">\n",
       "      <th></th>\n",
       "      <th>row_id</th>\n",
       "      <th>timestamp</th>\n",
       "      <th>user_id</th>\n",
       "      <th>content_id</th>\n",
       "      <th>content_type_id</th>\n",
       "      <th>task_container_id</th>\n",
       "      <th>user_answer</th>\n",
       "      <th>answered_correctly</th>\n",
       "      <th>prior_question_elapsed_time</th>\n",
       "      <th>prior_question_had_explanation</th>\n",
       "    </tr>\n",
       "  </thead>\n",
       "  <tbody>\n",
       "    <tr>\n",
       "      <th>0</th>\n",
       "      <td>0</td>\n",
       "      <td>0</td>\n",
       "      <td>115</td>\n",
       "      <td>5692</td>\n",
       "      <td>0</td>\n",
       "      <td>1</td>\n",
       "      <td>3</td>\n",
       "      <td>1</td>\n",
       "      <td>NaN</td>\n",
       "      <td>&lt;NA&gt;</td>\n",
       "    </tr>\n",
       "    <tr>\n",
       "      <th>1</th>\n",
       "      <td>1</td>\n",
       "      <td>56943</td>\n",
       "      <td>115</td>\n",
       "      <td>5716</td>\n",
       "      <td>0</td>\n",
       "      <td>2</td>\n",
       "      <td>2</td>\n",
       "      <td>1</td>\n",
       "      <td>37000.0</td>\n",
       "      <td>False</td>\n",
       "    </tr>\n",
       "    <tr>\n",
       "      <th>2</th>\n",
       "      <td>2</td>\n",
       "      <td>118363</td>\n",
       "      <td>115</td>\n",
       "      <td>128</td>\n",
       "      <td>0</td>\n",
       "      <td>0</td>\n",
       "      <td>0</td>\n",
       "      <td>1</td>\n",
       "      <td>55000.0</td>\n",
       "      <td>False</td>\n",
       "    </tr>\n",
       "    <tr>\n",
       "      <th>3</th>\n",
       "      <td>3</td>\n",
       "      <td>131167</td>\n",
       "      <td>115</td>\n",
       "      <td>7860</td>\n",
       "      <td>0</td>\n",
       "      <td>3</td>\n",
       "      <td>0</td>\n",
       "      <td>1</td>\n",
       "      <td>19000.0</td>\n",
       "      <td>False</td>\n",
       "    </tr>\n",
       "    <tr>\n",
       "      <th>4</th>\n",
       "      <td>4</td>\n",
       "      <td>137965</td>\n",
       "      <td>115</td>\n",
       "      <td>7922</td>\n",
       "      <td>0</td>\n",
       "      <td>4</td>\n",
       "      <td>1</td>\n",
       "      <td>1</td>\n",
       "      <td>11000.0</td>\n",
       "      <td>False</td>\n",
       "    </tr>\n",
       "    <tr>\n",
       "      <th>...</th>\n",
       "      <td>...</td>\n",
       "      <td>...</td>\n",
       "      <td>...</td>\n",
       "      <td>...</td>\n",
       "      <td>...</td>\n",
       "      <td>...</td>\n",
       "      <td>...</td>\n",
       "      <td>...</td>\n",
       "      <td>...</td>\n",
       "      <td>...</td>\n",
       "    </tr>\n",
       "    <tr>\n",
       "      <th>101230327</th>\n",
       "      <td>101230327</td>\n",
       "      <td>428564420</td>\n",
       "      <td>2147482888</td>\n",
       "      <td>3586</td>\n",
       "      <td>0</td>\n",
       "      <td>22</td>\n",
       "      <td>0</td>\n",
       "      <td>1</td>\n",
       "      <td>18000.0</td>\n",
       "      <td>True</td>\n",
       "    </tr>\n",
       "    <tr>\n",
       "      <th>101230328</th>\n",
       "      <td>101230328</td>\n",
       "      <td>428585000</td>\n",
       "      <td>2147482888</td>\n",
       "      <td>6341</td>\n",
       "      <td>0</td>\n",
       "      <td>23</td>\n",
       "      <td>3</td>\n",
       "      <td>1</td>\n",
       "      <td>14000.0</td>\n",
       "      <td>True</td>\n",
       "    </tr>\n",
       "    <tr>\n",
       "      <th>101230329</th>\n",
       "      <td>101230329</td>\n",
       "      <td>428613475</td>\n",
       "      <td>2147482888</td>\n",
       "      <td>4212</td>\n",
       "      <td>0</td>\n",
       "      <td>24</td>\n",
       "      <td>3</td>\n",
       "      <td>1</td>\n",
       "      <td>14000.0</td>\n",
       "      <td>True</td>\n",
       "    </tr>\n",
       "    <tr>\n",
       "      <th>101230330</th>\n",
       "      <td>101230330</td>\n",
       "      <td>428649406</td>\n",
       "      <td>2147482888</td>\n",
       "      <td>6343</td>\n",
       "      <td>0</td>\n",
       "      <td>25</td>\n",
       "      <td>1</td>\n",
       "      <td>0</td>\n",
       "      <td>22000.0</td>\n",
       "      <td>True</td>\n",
       "    </tr>\n",
       "    <tr>\n",
       "      <th>101230331</th>\n",
       "      <td>101230331</td>\n",
       "      <td>428692118</td>\n",
       "      <td>2147482888</td>\n",
       "      <td>7995</td>\n",
       "      <td>0</td>\n",
       "      <td>26</td>\n",
       "      <td>3</td>\n",
       "      <td>1</td>\n",
       "      <td>29000.0</td>\n",
       "      <td>True</td>\n",
       "    </tr>\n",
       "  </tbody>\n",
       "</table>\n",
       "<p>101230332 rows × 10 columns</p>\n",
       "</div>"
      ],
      "text/plain": [
       "              row_id  timestamp     user_id  content_id  content_type_id  \\\n",
       "0                  0          0         115        5692                0   \n",
       "1                  1      56943         115        5716                0   \n",
       "2                  2     118363         115         128                0   \n",
       "3                  3     131167         115        7860                0   \n",
       "4                  4     137965         115        7922                0   \n",
       "...              ...        ...         ...         ...              ...   \n",
       "101230327  101230327  428564420  2147482888        3586                0   \n",
       "101230328  101230328  428585000  2147482888        6341                0   \n",
       "101230329  101230329  428613475  2147482888        4212                0   \n",
       "101230330  101230330  428649406  2147482888        6343                0   \n",
       "101230331  101230331  428692118  2147482888        7995                0   \n",
       "\n",
       "           task_container_id  user_answer  answered_correctly  \\\n",
       "0                          1            3                   1   \n",
       "1                          2            2                   1   \n",
       "2                          0            0                   1   \n",
       "3                          3            0                   1   \n",
       "4                          4            1                   1   \n",
       "...                      ...          ...                 ...   \n",
       "101230327                 22            0                   1   \n",
       "101230328                 23            3                   1   \n",
       "101230329                 24            3                   1   \n",
       "101230330                 25            1                   0   \n",
       "101230331                 26            3                   1   \n",
       "\n",
       "           prior_question_elapsed_time  prior_question_had_explanation  \n",
       "0                                  NaN                            <NA>  \n",
       "1                              37000.0                           False  \n",
       "2                              55000.0                           False  \n",
       "3                              19000.0                           False  \n",
       "4                              11000.0                           False  \n",
       "...                                ...                             ...  \n",
       "101230327                      18000.0                            True  \n",
       "101230328                      14000.0                            True  \n",
       "101230329                      14000.0                            True  \n",
       "101230330                      22000.0                            True  \n",
       "101230331                      29000.0                            True  \n",
       "\n",
       "[101230332 rows x 10 columns]"
      ]
     },
     "execution_count": 36,
     "metadata": {},
     "output_type": "execute_result"
    }
   ],
   "source": [
    "train"
   ]
  },
  {
   "cell_type": "markdown",
   "id": "8dd0795f825ebee5",
   "metadata": {},
   "source": [
    "---"
   ]
  },
  {
   "cell_type": "markdown",
   "id": "29ed9642a7988aa",
   "metadata": {},
   "source": [
    "### **Описание таблицы Вопросы**\n",
    "\n",
    "`question_id` - ссылка на `train.content_id` if `train.content_type_id == 0` (вопрос)\n",
    "\n",
    "`bundle_id` - группировка вопросов в пачку\n",
    "\n",
    "`correct_answer` - ответ на вопрос\n",
    "\n",
    "`part` - раздел теста\n",
    "\n",
    "`tags` - кластеризация вопросов"
   ]
  },
  {
   "cell_type": "code",
   "execution_count": 37,
   "id": "a8189fdbd1955778",
   "metadata": {
    "ExecuteTime": {
     "end_time": "2024-10-13T12:58:00.408333Z",
     "start_time": "2024-10-13T12:58:00.402304Z"
    }
   },
   "outputs": [
    {
     "data": {
      "text/html": [
       "<div>\n",
       "<style scoped>\n",
       "    .dataframe tbody tr th:only-of-type {\n",
       "        vertical-align: middle;\n",
       "    }\n",
       "\n",
       "    .dataframe tbody tr th {\n",
       "        vertical-align: top;\n",
       "    }\n",
       "\n",
       "    .dataframe thead th {\n",
       "        text-align: right;\n",
       "    }\n",
       "</style>\n",
       "<table border=\"1\" class=\"dataframe\">\n",
       "  <thead>\n",
       "    <tr style=\"text-align: right;\">\n",
       "      <th></th>\n",
       "      <th>question_id</th>\n",
       "      <th>bundle_id</th>\n",
       "      <th>correct_answer</th>\n",
       "      <th>part</th>\n",
       "      <th>tags</th>\n",
       "    </tr>\n",
       "  </thead>\n",
       "  <tbody>\n",
       "    <tr>\n",
       "      <th>0</th>\n",
       "      <td>0</td>\n",
       "      <td>0</td>\n",
       "      <td>0</td>\n",
       "      <td>1</td>\n",
       "      <td>51 131 162 38</td>\n",
       "    </tr>\n",
       "    <tr>\n",
       "      <th>1</th>\n",
       "      <td>1</td>\n",
       "      <td>1</td>\n",
       "      <td>1</td>\n",
       "      <td>1</td>\n",
       "      <td>131 36 81</td>\n",
       "    </tr>\n",
       "    <tr>\n",
       "      <th>2</th>\n",
       "      <td>2</td>\n",
       "      <td>2</td>\n",
       "      <td>0</td>\n",
       "      <td>1</td>\n",
       "      <td>131 101 162 92</td>\n",
       "    </tr>\n",
       "    <tr>\n",
       "      <th>3</th>\n",
       "      <td>3</td>\n",
       "      <td>3</td>\n",
       "      <td>0</td>\n",
       "      <td>1</td>\n",
       "      <td>131 149 162 29</td>\n",
       "    </tr>\n",
       "    <tr>\n",
       "      <th>4</th>\n",
       "      <td>4</td>\n",
       "      <td>4</td>\n",
       "      <td>3</td>\n",
       "      <td>1</td>\n",
       "      <td>131 5 162 38</td>\n",
       "    </tr>\n",
       "    <tr>\n",
       "      <th>...</th>\n",
       "      <td>...</td>\n",
       "      <td>...</td>\n",
       "      <td>...</td>\n",
       "      <td>...</td>\n",
       "      <td>...</td>\n",
       "    </tr>\n",
       "    <tr>\n",
       "      <th>13518</th>\n",
       "      <td>13518</td>\n",
       "      <td>13518</td>\n",
       "      <td>3</td>\n",
       "      <td>5</td>\n",
       "      <td>14</td>\n",
       "    </tr>\n",
       "    <tr>\n",
       "      <th>13519</th>\n",
       "      <td>13519</td>\n",
       "      <td>13519</td>\n",
       "      <td>3</td>\n",
       "      <td>5</td>\n",
       "      <td>8</td>\n",
       "    </tr>\n",
       "    <tr>\n",
       "      <th>13520</th>\n",
       "      <td>13520</td>\n",
       "      <td>13520</td>\n",
       "      <td>2</td>\n",
       "      <td>5</td>\n",
       "      <td>73</td>\n",
       "    </tr>\n",
       "    <tr>\n",
       "      <th>13521</th>\n",
       "      <td>13521</td>\n",
       "      <td>13521</td>\n",
       "      <td>0</td>\n",
       "      <td>5</td>\n",
       "      <td>125</td>\n",
       "    </tr>\n",
       "    <tr>\n",
       "      <th>13522</th>\n",
       "      <td>13522</td>\n",
       "      <td>13522</td>\n",
       "      <td>3</td>\n",
       "      <td>5</td>\n",
       "      <td>55</td>\n",
       "    </tr>\n",
       "  </tbody>\n",
       "</table>\n",
       "<p>13523 rows × 5 columns</p>\n",
       "</div>"
      ],
      "text/plain": [
       "       question_id  bundle_id  correct_answer  part            tags\n",
       "0                0          0               0     1   51 131 162 38\n",
       "1                1          1               1     1       131 36 81\n",
       "2                2          2               0     1  131 101 162 92\n",
       "3                3          3               0     1  131 149 162 29\n",
       "4                4          4               3     1    131 5 162 38\n",
       "...            ...        ...             ...   ...             ...\n",
       "13518        13518      13518               3     5              14\n",
       "13519        13519      13519               3     5               8\n",
       "13520        13520      13520               2     5              73\n",
       "13521        13521      13521               0     5             125\n",
       "13522        13522      13522               3     5              55\n",
       "\n",
       "[13523 rows x 5 columns]"
      ]
     },
     "execution_count": 37,
     "metadata": {},
     "output_type": "execute_result"
    }
   ],
   "source": [
    "questions"
   ]
  },
  {
   "cell_type": "markdown",
   "id": "5c94cd9aa1ac9d4c",
   "metadata": {},
   "source": [
    "---"
   ]
  },
  {
   "cell_type": "markdown",
   "id": "425b547b99d728ea",
   "metadata": {},
   "source": [
    "### **Описание таблицы Лекции**\n",
    "\n",
    "`lecture_id` - ссылка на `train.content_id` if `train.content_type_id == 1` (лекция)\n",
    "\n",
    "`tag` - для кластеризации\n",
    "\n",
    "`part` - раздел теста\n",
    "\n",
    "`type_of` - краткое описание основной цели лекции"
   ]
  },
  {
   "cell_type": "code",
   "execution_count": 38,
   "id": "3137e7023d4b198c",
   "metadata": {
    "ExecuteTime": {
     "end_time": "2024-10-13T12:58:00.527346Z",
     "start_time": "2024-10-13T12:58:00.522166Z"
    }
   },
   "outputs": [
    {
     "data": {
      "text/html": [
       "<div>\n",
       "<style scoped>\n",
       "    .dataframe tbody tr th:only-of-type {\n",
       "        vertical-align: middle;\n",
       "    }\n",
       "\n",
       "    .dataframe tbody tr th {\n",
       "        vertical-align: top;\n",
       "    }\n",
       "\n",
       "    .dataframe thead th {\n",
       "        text-align: right;\n",
       "    }\n",
       "</style>\n",
       "<table border=\"1\" class=\"dataframe\">\n",
       "  <thead>\n",
       "    <tr style=\"text-align: right;\">\n",
       "      <th></th>\n",
       "      <th>lecture_id</th>\n",
       "      <th>tag</th>\n",
       "      <th>part</th>\n",
       "      <th>type_of</th>\n",
       "    </tr>\n",
       "  </thead>\n",
       "  <tbody>\n",
       "    <tr>\n",
       "      <th>0</th>\n",
       "      <td>89</td>\n",
       "      <td>159</td>\n",
       "      <td>5</td>\n",
       "      <td>concept</td>\n",
       "    </tr>\n",
       "    <tr>\n",
       "      <th>1</th>\n",
       "      <td>100</td>\n",
       "      <td>70</td>\n",
       "      <td>1</td>\n",
       "      <td>concept</td>\n",
       "    </tr>\n",
       "    <tr>\n",
       "      <th>2</th>\n",
       "      <td>185</td>\n",
       "      <td>45</td>\n",
       "      <td>6</td>\n",
       "      <td>concept</td>\n",
       "    </tr>\n",
       "    <tr>\n",
       "      <th>3</th>\n",
       "      <td>192</td>\n",
       "      <td>79</td>\n",
       "      <td>5</td>\n",
       "      <td>solving question</td>\n",
       "    </tr>\n",
       "    <tr>\n",
       "      <th>4</th>\n",
       "      <td>317</td>\n",
       "      <td>156</td>\n",
       "      <td>5</td>\n",
       "      <td>solving question</td>\n",
       "    </tr>\n",
       "    <tr>\n",
       "      <th>...</th>\n",
       "      <td>...</td>\n",
       "      <td>...</td>\n",
       "      <td>...</td>\n",
       "      <td>...</td>\n",
       "    </tr>\n",
       "    <tr>\n",
       "      <th>413</th>\n",
       "      <td>32535</td>\n",
       "      <td>8</td>\n",
       "      <td>5</td>\n",
       "      <td>solving question</td>\n",
       "    </tr>\n",
       "    <tr>\n",
       "      <th>414</th>\n",
       "      <td>32570</td>\n",
       "      <td>113</td>\n",
       "      <td>3</td>\n",
       "      <td>solving question</td>\n",
       "    </tr>\n",
       "    <tr>\n",
       "      <th>415</th>\n",
       "      <td>32604</td>\n",
       "      <td>24</td>\n",
       "      <td>6</td>\n",
       "      <td>concept</td>\n",
       "    </tr>\n",
       "    <tr>\n",
       "      <th>416</th>\n",
       "      <td>32625</td>\n",
       "      <td>142</td>\n",
       "      <td>2</td>\n",
       "      <td>concept</td>\n",
       "    </tr>\n",
       "    <tr>\n",
       "      <th>417</th>\n",
       "      <td>32736</td>\n",
       "      <td>82</td>\n",
       "      <td>3</td>\n",
       "      <td>concept</td>\n",
       "    </tr>\n",
       "  </tbody>\n",
       "</table>\n",
       "<p>418 rows × 4 columns</p>\n",
       "</div>"
      ],
      "text/plain": [
       "     lecture_id  tag  part           type_of\n",
       "0            89  159     5           concept\n",
       "1           100   70     1           concept\n",
       "2           185   45     6           concept\n",
       "3           192   79     5  solving question\n",
       "4           317  156     5  solving question\n",
       "..          ...  ...   ...               ...\n",
       "413       32535    8     5  solving question\n",
       "414       32570  113     3  solving question\n",
       "415       32604   24     6           concept\n",
       "416       32625  142     2           concept\n",
       "417       32736   82     3           concept\n",
       "\n",
       "[418 rows x 4 columns]"
      ]
     },
     "execution_count": 38,
     "metadata": {},
     "output_type": "execute_result"
    }
   ],
   "source": [
    "lectures"
   ]
  },
  {
   "cell_type": "markdown",
   "id": "202a1dc662bc2137",
   "metadata": {},
   "source": [
    "---\n",
    "# Анализ"
   ]
  },
  {
   "cell_type": "code",
   "execution_count": 58,
   "id": "debf4c13173dc7ef",
   "metadata": {
    "ExecuteTime": {
     "end_time": "2024-10-13T13:20:47.329280Z",
     "start_time": "2024-10-13T13:20:45.099830Z"
    }
   },
   "outputs": [],
   "source": [
    "train_questions = train[train.content_type_id == 0]\n",
    "train_lectures = train[train.content_type_id == 1]"
   ]
  },
  {
   "cell_type": "code",
   "execution_count": 60,
   "id": "57d3e0e700ffa416",
   "metadata": {
    "ExecuteTime": {
     "end_time": "2024-10-13T13:36:43.519190Z",
     "start_time": "2024-10-13T13:36:42.274295Z"
    }
   },
   "outputs": [],
   "source": [
    "wrong = train_questions[train_questions.answered_correctly == 0]\n",
    "users_id_with_wrong = wrong.user_id.unique()"
   ]
  },
  {
   "cell_type": "code",
   "execution_count": 62,
   "id": "bb9f3a060ea097bc",
   "metadata": {
    "ExecuteTime": {
     "end_time": "2024-10-13T13:37:25.067598Z",
     "start_time": "2024-10-13T13:37:22.828585Z"
    }
   },
   "outputs": [],
   "source": [
    "correct = train_questions[train_questions.answered_correctly == 1]\n",
    "users_id_with_correct = correct.user_id.unique()"
   ]
  },
  {
   "metadata": {},
   "cell_type": "markdown",
   "source": "### Кол-во пользоваталетей проходивших тестирование",
   "id": "8843a24b3083b47a"
  },
  {
   "metadata": {
    "ExecuteTime": {
     "end_time": "2024-10-13T12:58:00.991813Z",
     "start_time": "2024-10-13T12:58:00.624384Z"
    }
   },
   "cell_type": "code",
   "outputs": [
    {
     "data": {
      "text/plain": [
       "393656"
      ]
     },
     "execution_count": 39,
     "metadata": {},
     "output_type": "execute_result"
    }
   ],
   "execution_count": 39,
   "source": "train['user_id'].nunique()",
   "id": "8d572e5fcf65ade0"
  },
  {
   "metadata": {},
   "cell_type": "markdown",
   "source": "### Распределение пользователей по правильным ответам",
   "id": "fa8ebd31f380891a"
  },
  {
   "metadata": {
    "ExecuteTime": {
     "end_time": "2024-10-13T15:18:10.149523Z",
     "start_time": "2024-10-13T15:18:09.702139Z"
    }
   },
   "cell_type": "code",
   "source": [
    "''' Распределение пользователей по кол-ву решенных задач '''\n",
    "correct_value_counts = correct.user_id.value_counts()\n",
    "correct_value_counts"
   ],
   "id": "88fdfc1b2cb52ace",
   "outputs": [
    {
     "data": {
      "text/plain": [
       "user_id\n",
       "2139561972    14300\n",
       "1615528747    13678\n",
       "338684437     13416\n",
       "1842816145    13086\n",
       "1047202059    13034\n",
       "              ...  \n",
       "856608043         1\n",
       "856589478         1\n",
       "23235753          1\n",
       "1663437695        1\n",
       "870627731         1\n",
       "Name: count, Length: 393470, dtype: int64"
      ]
     },
     "execution_count": 161,
     "metadata": {},
     "output_type": "execute_result"
    }
   ],
   "execution_count": 161
  },
  {
   "metadata": {
    "ExecuteTime": {
     "end_time": "2024-10-13T15:36:21.592746Z",
     "start_time": "2024-10-13T15:36:21.586514Z"
    }
   },
   "cell_type": "code",
   "source": [
    "correct_value_counts_df = correct_value_counts.to_frame().reset_index()\n",
    "correct_value_counts_df = correct_value_counts_df.rename(columns={'count': 'value'})\n",
    "correct_value_counts_df"
   ],
   "id": "6b19c39aad056f3d",
   "outputs": [
    {
     "data": {
      "text/plain": [
       "           user_id  value\n",
       "0       2139561972  14300\n",
       "1       1615528747  13678\n",
       "2        338684437  13416\n",
       "3       1842816145  13086\n",
       "4       1047202059  13034\n",
       "...            ...    ...\n",
       "393465   856608043      1\n",
       "393466   856589478      1\n",
       "393467    23235753      1\n",
       "393468  1663437695      1\n",
       "393469   870627731      1\n",
       "\n",
       "[393470 rows x 2 columns]"
      ],
      "text/html": [
       "<div>\n",
       "<style scoped>\n",
       "    .dataframe tbody tr th:only-of-type {\n",
       "        vertical-align: middle;\n",
       "    }\n",
       "\n",
       "    .dataframe tbody tr th {\n",
       "        vertical-align: top;\n",
       "    }\n",
       "\n",
       "    .dataframe thead th {\n",
       "        text-align: right;\n",
       "    }\n",
       "</style>\n",
       "<table border=\"1\" class=\"dataframe\">\n",
       "  <thead>\n",
       "    <tr style=\"text-align: right;\">\n",
       "      <th></th>\n",
       "      <th>user_id</th>\n",
       "      <th>value</th>\n",
       "    </tr>\n",
       "  </thead>\n",
       "  <tbody>\n",
       "    <tr>\n",
       "      <th>0</th>\n",
       "      <td>2139561972</td>\n",
       "      <td>14300</td>\n",
       "    </tr>\n",
       "    <tr>\n",
       "      <th>1</th>\n",
       "      <td>1615528747</td>\n",
       "      <td>13678</td>\n",
       "    </tr>\n",
       "    <tr>\n",
       "      <th>2</th>\n",
       "      <td>338684437</td>\n",
       "      <td>13416</td>\n",
       "    </tr>\n",
       "    <tr>\n",
       "      <th>3</th>\n",
       "      <td>1842816145</td>\n",
       "      <td>13086</td>\n",
       "    </tr>\n",
       "    <tr>\n",
       "      <th>4</th>\n",
       "      <td>1047202059</td>\n",
       "      <td>13034</td>\n",
       "    </tr>\n",
       "    <tr>\n",
       "      <th>...</th>\n",
       "      <td>...</td>\n",
       "      <td>...</td>\n",
       "    </tr>\n",
       "    <tr>\n",
       "      <th>393465</th>\n",
       "      <td>856608043</td>\n",
       "      <td>1</td>\n",
       "    </tr>\n",
       "    <tr>\n",
       "      <th>393466</th>\n",
       "      <td>856589478</td>\n",
       "      <td>1</td>\n",
       "    </tr>\n",
       "    <tr>\n",
       "      <th>393467</th>\n",
       "      <td>23235753</td>\n",
       "      <td>1</td>\n",
       "    </tr>\n",
       "    <tr>\n",
       "      <th>393468</th>\n",
       "      <td>1663437695</td>\n",
       "      <td>1</td>\n",
       "    </tr>\n",
       "    <tr>\n",
       "      <th>393469</th>\n",
       "      <td>870627731</td>\n",
       "      <td>1</td>\n",
       "    </tr>\n",
       "  </tbody>\n",
       "</table>\n",
       "<p>393470 rows × 2 columns</p>\n",
       "</div>"
      ]
     },
     "execution_count": 175,
     "metadata": {},
     "output_type": "execute_result"
    }
   ],
   "execution_count": 175
  },
  {
   "metadata": {
    "ExecuteTime": {
     "end_time": "2024-10-13T15:44:16.509203Z",
     "start_time": "2024-10-13T15:44:16.501161Z"
    }
   },
   "cell_type": "code",
   "source": [
    "correct_distribution = correct_value_counts_df['value'].value_counts().sort_index()\n",
    "correct_distribution"
   ],
   "id": "6ba280fb0c960e88",
   "outputs": [
    {
     "data": {
      "text/plain": [
       "value\n",
       "1         733\n",
       "2        1849\n",
       "3        3756\n",
       "4        6472\n",
       "5        8878\n",
       "         ... \n",
       "13034       1\n",
       "13086       1\n",
       "13416       1\n",
       "13678       1\n",
       "14300       1\n",
       "Name: count, Length: 4750, dtype: int64"
      ]
     },
     "execution_count": 182,
     "metadata": {},
     "output_type": "execute_result"
    }
   ],
   "execution_count": 182
  },
  {
   "metadata": {
    "ExecuteTime": {
     "end_time": "2024-10-13T15:44:22.284056Z",
     "start_time": "2024-10-13T15:44:22.203717Z"
    }
   },
   "cell_type": "code",
   "source": [
    "plt.figure(figsize=(20, 6))  \n",
    "plt.plot(np.log(correct_distribution.index), correct_distribution.values, 'r')  \n",
    "plt.title('Распределение количества правильных ответов')  \n",
    "plt.xlabel('Логорифм кол-ва правильных ответов')  \n",
    "plt.ylabel('Количество пользователей')  \n",
    "plt.grid()  \n",
    "# plt.xticks(distribution.index)  # Устанавливаем метки по оси X  \n",
    "plt.show()"
   ],
   "id": "2481eb4ac4a059e6",
   "outputs": [
    {
     "data": {
      "text/plain": [
       "<Figure size 2000x600 with 1 Axes>"
      ],
      "image/png": "[encoded data removed]"
     },
     "metadata": {},
     "output_type": "display_data"
    }
   ],
   "execution_count": 183
  },
  {
   "metadata": {},
   "cell_type": "markdown",
   "source": "### Распределение пользователей по неправильным ответам",
   "id": "2a02e62921316a76"
  },
  {
   "metadata": {
    "ExecuteTime": {
     "end_time": "2024-10-13T15:43:48.485885Z",
     "start_time": "2024-10-13T15:43:48.019555Z"
    }
   },
   "cell_type": "code",
   "source": [
    "''' Распределение пользователей по кол-ву неправильных ответов '''\n",
    "wrong_value_counts = wrong.user_id.value_counts()\n",
    "wrong_value_counts"
   ],
   "id": "f005c6d3e7ac1dbf",
   "outputs": [
    {
     "data": {
      "text/plain": [
       "user_id\n",
       "177898308     8112\n",
       "1565505837    8083\n",
       "1509564249    8017\n",
       "7171715       7974\n",
       "314180295     7588\n",
       "              ... \n",
       "531962949        1\n",
       "1079688722       1\n",
       "1079649798       1\n",
       "647561029        1\n",
       "1238649895       1\n",
       "Name: count, Length: 393445, dtype: int64"
      ]
     },
     "execution_count": 180,
     "metadata": {},
     "output_type": "execute_result"
    }
   ],
   "execution_count": 180
  },
  {
   "metadata": {
    "ExecuteTime": {
     "end_time": "2024-10-13T15:43:50.503801Z",
     "start_time": "2024-10-13T15:43:50.498076Z"
    }
   },
   "cell_type": "code",
   "source": [
    "wrong_value_counts_df = wrong_value_counts.to_frame().reset_index()\n",
    "wrong_value_counts_df = wrong_value_counts_df.rename(columns={'count': 'value'})\n",
    "wrong_value_counts_df"
   ],
   "id": "1471f965ceaafc2c",
   "outputs": [
    {
     "data": {
      "text/plain": [
       "           user_id  value\n",
       "0        177898308   8112\n",
       "1       1565505837   8083\n",
       "2       1509564249   8017\n",
       "3          7171715   7974\n",
       "4        314180295   7588\n",
       "...            ...    ...\n",
       "393440   531962949      1\n",
       "393441  1079688722      1\n",
       "393442  1079649798      1\n",
       "393443   647561029      1\n",
       "393444  1238649895      1\n",
       "\n",
       "[393445 rows x 2 columns]"
      ],
      "text/html": [
       "<div>\n",
       "<style scoped>\n",
       "    .dataframe tbody tr th:only-of-type {\n",
       "        vertical-align: middle;\n",
       "    }\n",
       "\n",
       "    .dataframe tbody tr th {\n",
       "        vertical-align: top;\n",
       "    }\n",
       "\n",
       "    .dataframe thead th {\n",
       "        text-align: right;\n",
       "    }\n",
       "</style>\n",
       "<table border=\"1\" class=\"dataframe\">\n",
       "  <thead>\n",
       "    <tr style=\"text-align: right;\">\n",
       "      <th></th>\n",
       "      <th>user_id</th>\n",
       "      <th>value</th>\n",
       "    </tr>\n",
       "  </thead>\n",
       "  <tbody>\n",
       "    <tr>\n",
       "      <th>0</th>\n",
       "      <td>177898308</td>\n",
       "      <td>8112</td>\n",
       "    </tr>\n",
       "    <tr>\n",
       "      <th>1</th>\n",
       "      <td>1565505837</td>\n",
       "      <td>8083</td>\n",
       "    </tr>\n",
       "    <tr>\n",
       "      <th>2</th>\n",
       "      <td>1509564249</td>\n",
       "      <td>8017</td>\n",
       "    </tr>\n",
       "    <tr>\n",
       "      <th>3</th>\n",
       "      <td>7171715</td>\n",
       "      <td>7974</td>\n",
       "    </tr>\n",
       "    <tr>\n",
       "      <th>4</th>\n",
       "      <td>314180295</td>\n",
       "      <td>7588</td>\n",
       "    </tr>\n",
       "    <tr>\n",
       "      <th>...</th>\n",
       "      <td>...</td>\n",
       "      <td>...</td>\n",
       "    </tr>\n",
       "    <tr>\n",
       "      <th>393440</th>\n",
       "      <td>531962949</td>\n",
       "      <td>1</td>\n",
       "    </tr>\n",
       "    <tr>\n",
       "      <th>393441</th>\n",
       "      <td>1079688722</td>\n",
       "      <td>1</td>\n",
       "    </tr>\n",
       "    <tr>\n",
       "      <th>393442</th>\n",
       "      <td>1079649798</td>\n",
       "      <td>1</td>\n",
       "    </tr>\n",
       "    <tr>\n",
       "      <th>393443</th>\n",
       "      <td>647561029</td>\n",
       "      <td>1</td>\n",
       "    </tr>\n",
       "    <tr>\n",
       "      <th>393444</th>\n",
       "      <td>1238649895</td>\n",
       "      <td>1</td>\n",
       "    </tr>\n",
       "  </tbody>\n",
       "</table>\n",
       "<p>393445 rows × 2 columns</p>\n",
       "</div>"
      ]
     },
     "execution_count": 181,
     "metadata": {},
     "output_type": "execute_result"
    }
   ],
   "execution_count": 181
  },
  {
   "metadata": {
    "ExecuteTime": {
     "end_time": "2024-10-13T15:45:26.431558Z",
     "start_time": "2024-10-13T15:45:26.423784Z"
    }
   },
   "cell_type": "code",
   "source": [
    "wrong_distribution = wrong_value_counts_df['value'].value_counts().sort_index()\n",
    "wrong_distribution"
   ],
   "id": "dad524c6db481b8d",
   "outputs": [
    {
     "data": {
      "text/plain": [
       "value\n",
       "1        518\n",
       "2       1258\n",
       "3       2669\n",
       "4       4535\n",
       "5       7026\n",
       "        ... \n",
       "7588       1\n",
       "7974       1\n",
       "8017       1\n",
       "8083       1\n",
       "8112       1\n",
       "Name: count, Length: 2700, dtype: int64"
      ]
     },
     "execution_count": 184,
     "metadata": {},
     "output_type": "execute_result"
    }
   ],
   "execution_count": 184
  },
  {
   "metadata": {
    "ExecuteTime": {
     "end_time": "2024-10-13T15:49:38.976277Z",
     "start_time": "2024-10-13T15:49:38.893384Z"
    }
   },
   "cell_type": "code",
   "source": [
    "plt.figure(figsize=(20, 6))  \n",
    "plt.plot(np.log(wrong_distribution.index), wrong_distribution.values, 'r')  \n",
    "plt.title('Распределение количества неправильных ответов')  \n",
    "plt.xlabel('Логорифм кол-ва неправильных ответов')  \n",
    "plt.ylabel('Количество пользователей')  \n",
    "plt.grid()  \n",
    "# plt.xticks(np.log(wrong_distribution.index))  # Устанавливаем метки по оси X  \n",
    "plt.show()"
   ],
   "id": "64a8fe0697ee9bcb",
   "outputs": [
    {
     "data": {
      "text/plain": [
       "<Figure size 2000x600 with 1 Axes>"
      ],
      "image/png": "[encoded data removed]"
     },
     "metadata": {},
     "output_type": "display_data"
    }
   ],
   "execution_count": 191
  },
  {
   "cell_type": "markdown",
   "id": "9c0eb65d1453f69d",
   "metadata": {},
   "source": [
    "### Пользователи, у которых все правильные ответы или все неправильные"
   ]
  },
  {
   "cell_type": "markdown",
   "id": "c238b86be1cfbad1",
   "metadata": {},
   "source": [
    "#### Все ответы правильные"
   ]
  },
  {
   "cell_type": "code",
   "execution_count": 68,
   "id": "321fa6599a470d16",
   "metadata": {
    "ExecuteTime": {
     "end_time": "2024-10-13T13:46:40.283516Z",
     "start_time": "2024-10-13T13:46:39.863834Z"
    }
   },
   "outputs": [
    {
     "data": {
      "text/html": [
       "<div>\n",
       "<style scoped>\n",
       "    .dataframe tbody tr th:only-of-type {\n",
       "        vertical-align: middle;\n",
       "    }\n",
       "\n",
       "    .dataframe tbody tr th {\n",
       "        vertical-align: top;\n",
       "    }\n",
       "\n",
       "    .dataframe thead th {\n",
       "        text-align: right;\n",
       "    }\n",
       "</style>\n",
       "<table border=\"1\" class=\"dataframe\">\n",
       "  <thead>\n",
       "    <tr style=\"text-align: right;\">\n",
       "      <th></th>\n",
       "      <th>row_id</th>\n",
       "      <th>timestamp</th>\n",
       "      <th>user_id</th>\n",
       "      <th>content_id</th>\n",
       "      <th>content_type_id</th>\n",
       "      <th>task_container_id</th>\n",
       "      <th>user_answer</th>\n",
       "      <th>answered_correctly</th>\n",
       "      <th>prior_question_elapsed_time</th>\n",
       "      <th>prior_question_had_explanation</th>\n",
       "    </tr>\n",
       "  </thead>\n",
       "  <tbody>\n",
       "    <tr>\n",
       "      <th>87415</th>\n",
       "      <td>87415</td>\n",
       "      <td>0</td>\n",
       "      <td>1880240</td>\n",
       "      <td>192</td>\n",
       "      <td>0</td>\n",
       "      <td>0</td>\n",
       "      <td>1</td>\n",
       "      <td>1</td>\n",
       "      <td>NaN</td>\n",
       "      <td>&lt;NA&gt;</td>\n",
       "    </tr>\n",
       "    <tr>\n",
       "      <th>2158464</th>\n",
       "      <td>2158464</td>\n",
       "      <td>0</td>\n",
       "      <td>45312560</td>\n",
       "      <td>7900</td>\n",
       "      <td>0</td>\n",
       "      <td>0</td>\n",
       "      <td>0</td>\n",
       "      <td>1</td>\n",
       "      <td>NaN</td>\n",
       "      <td>&lt;NA&gt;</td>\n",
       "    </tr>\n",
       "    <tr>\n",
       "      <th>2158465</th>\n",
       "      <td>2158465</td>\n",
       "      <td>20012</td>\n",
       "      <td>45312560</td>\n",
       "      <td>7876</td>\n",
       "      <td>0</td>\n",
       "      <td>1</td>\n",
       "      <td>3</td>\n",
       "      <td>1</td>\n",
       "      <td>15000.0</td>\n",
       "      <td>False</td>\n",
       "    </tr>\n",
       "    <tr>\n",
       "      <th>2158466</th>\n",
       "      <td>2158466</td>\n",
       "      <td>45505</td>\n",
       "      <td>45312560</td>\n",
       "      <td>175</td>\n",
       "      <td>0</td>\n",
       "      <td>2</td>\n",
       "      <td>2</td>\n",
       "      <td>1</td>\n",
       "      <td>17000.0</td>\n",
       "      <td>False</td>\n",
       "    </tr>\n",
       "    <tr>\n",
       "      <th>2158467</th>\n",
       "      <td>2158467</td>\n",
       "      <td>64031</td>\n",
       "      <td>45312560</td>\n",
       "      <td>1278</td>\n",
       "      <td>0</td>\n",
       "      <td>3</td>\n",
       "      <td>3</td>\n",
       "      <td>1</td>\n",
       "      <td>22000.0</td>\n",
       "      <td>False</td>\n",
       "    </tr>\n",
       "    <tr>\n",
       "      <th>...</th>\n",
       "      <td>...</td>\n",
       "      <td>...</td>\n",
       "      <td>...</td>\n",
       "      <td>...</td>\n",
       "      <td>...</td>\n",
       "      <td>...</td>\n",
       "      <td>...</td>\n",
       "      <td>...</td>\n",
       "      <td>...</td>\n",
       "      <td>...</td>\n",
       "    </tr>\n",
       "    <tr>\n",
       "      <th>100202912</th>\n",
       "      <td>100202912</td>\n",
       "      <td>2958094</td>\n",
       "      <td>2126774754</td>\n",
       "      <td>2946</td>\n",
       "      <td>0</td>\n",
       "      <td>6</td>\n",
       "      <td>3</td>\n",
       "      <td>1</td>\n",
       "      <td>42667.0</td>\n",
       "      <td>False</td>\n",
       "    </tr>\n",
       "    <tr>\n",
       "      <th>100202913</th>\n",
       "      <td>100202913</td>\n",
       "      <td>2958094</td>\n",
       "      <td>2126774754</td>\n",
       "      <td>2948</td>\n",
       "      <td>0</td>\n",
       "      <td>6</td>\n",
       "      <td>0</td>\n",
       "      <td>1</td>\n",
       "      <td>42667.0</td>\n",
       "      <td>False</td>\n",
       "    </tr>\n",
       "    <tr>\n",
       "      <th>100202914</th>\n",
       "      <td>100202914</td>\n",
       "      <td>2958094</td>\n",
       "      <td>2126774754</td>\n",
       "      <td>2947</td>\n",
       "      <td>0</td>\n",
       "      <td>6</td>\n",
       "      <td>1</td>\n",
       "      <td>1</td>\n",
       "      <td>42667.0</td>\n",
       "      <td>False</td>\n",
       "    </tr>\n",
       "    <tr>\n",
       "      <th>100388645</th>\n",
       "      <td>100388645</td>\n",
       "      <td>0</td>\n",
       "      <td>2131395801</td>\n",
       "      <td>5269</td>\n",
       "      <td>0</td>\n",
       "      <td>0</td>\n",
       "      <td>2</td>\n",
       "      <td>1</td>\n",
       "      <td>NaN</td>\n",
       "      <td>&lt;NA&gt;</td>\n",
       "    </tr>\n",
       "    <tr>\n",
       "      <th>100388646</th>\n",
       "      <td>100388646</td>\n",
       "      <td>13505</td>\n",
       "      <td>2131395801</td>\n",
       "      <td>4841</td>\n",
       "      <td>0</td>\n",
       "      <td>1</td>\n",
       "      <td>3</td>\n",
       "      <td>1</td>\n",
       "      <td>14000.0</td>\n",
       "      <td>False</td>\n",
       "    </tr>\n",
       "  </tbody>\n",
       "</table>\n",
       "<p>3369 rows × 10 columns</p>\n",
       "</div>"
      ],
      "text/plain": [
       "              row_id  timestamp     user_id  content_id  content_type_id  \\\n",
       "87415          87415          0     1880240         192                0   \n",
       "2158464      2158464          0    45312560        7900                0   \n",
       "2158465      2158465      20012    45312560        7876                0   \n",
       "2158466      2158466      45505    45312560         175                0   \n",
       "2158467      2158467      64031    45312560        1278                0   \n",
       "...              ...        ...         ...         ...              ...   \n",
       "100202912  100202912    2958094  2126774754        2946                0   \n",
       "100202913  100202913    2958094  2126774754        2948                0   \n",
       "100202914  100202914    2958094  2126774754        2947                0   \n",
       "100388645  100388645          0  2131395801        5269                0   \n",
       "100388646  100388646      13505  2131395801        4841                0   \n",
       "\n",
       "           task_container_id  user_answer  answered_correctly  \\\n",
       "87415                      0            1                   1   \n",
       "2158464                    0            0                   1   \n",
       "2158465                    1            3                   1   \n",
       "2158466                    2            2                   1   \n",
       "2158467                    3            3                   1   \n",
       "...                      ...          ...                 ...   \n",
       "100202912                  6            3                   1   \n",
       "100202913                  6            0                   1   \n",
       "100202914                  6            1                   1   \n",
       "100388645                  0            2                   1   \n",
       "100388646                  1            3                   1   \n",
       "\n",
       "           prior_question_elapsed_time  prior_question_had_explanation  \n",
       "87415                              NaN                            <NA>  \n",
       "2158464                            NaN                            <NA>  \n",
       "2158465                        15000.0                           False  \n",
       "2158466                        17000.0                           False  \n",
       "2158467                        22000.0                           False  \n",
       "...                                ...                             ...  \n",
       "100202912                      42667.0                           False  \n",
       "100202913                      42667.0                           False  \n",
       "100202914                      42667.0                           False  \n",
       "100388645                          NaN                            <NA>  \n",
       "100388646                      14000.0                           False  \n",
       "\n",
       "[3369 rows x 10 columns]"
      ]
     },
     "execution_count": 68,
     "metadata": {},
     "output_type": "execute_result"
    }
   ],
   "source": [
    "# Все пользователи, которые не допустили ни одной ошибки\n",
    "users_without_wrongs = train_questions[~train_questions.user_id.isin(users_id_with_wrong)]\n",
    "users_without_wrongs"
   ]
  },
  {
   "cell_type": "code",
   "execution_count": 149,
   "id": "4755893923cf9da7",
   "metadata": {
    "ExecuteTime": {
     "end_time": "2024-10-13T14:54:16.521634Z",
     "start_time": "2024-10-13T14:54:16.518261Z"
    }
   },
   "outputs": [
    {
     "data": {
      "text/plain": [
       "211"
      ]
     },
     "execution_count": 149,
     "metadata": {},
     "output_type": "execute_result"
    }
   ],
   "source": [
    "''' Кол-во пользователей только с правильными ответами '''\n",
    "users_without_wrongs.user_id.nunique()"
   ]
  },
  {
   "cell_type": "code",
   "execution_count": 82,
   "id": "b4538789b89fd6e1",
   "metadata": {
    "ExecuteTime": {
     "end_time": "2024-10-13T14:09:33.836238Z",
     "start_time": "2024-10-13T14:09:33.832090Z"
    }
   },
   "outputs": [
    {
     "data": {
      "text/plain": [
       "user_id\n",
       "48102728      41\n",
       "1913246299    40\n",
       "173568036     40\n",
       "2086209271    40\n",
       "608140302     35\n",
       "              ..\n",
       "1801712607     1\n",
       "863504442      1\n",
       "834391458      1\n",
       "689928881      1\n",
       "1880240        1\n",
       "Name: count, Length: 211, dtype: int64"
      ]
     },
     "execution_count": 82,
     "metadata": {},
     "output_type": "execute_result"
    }
   ],
   "source": [
    "''' Распределение пользователей по кол-ву решенных задач '''\n",
    "users_without_wrongs_value_counts = users_without_wrongs.user_id.value_counts()\n",
    "users_without_wrongs_value_counts"
   ]
  },
  {
   "cell_type": "code",
   "execution_count": 155,
   "id": "4b1bca61ed4fcf47",
   "metadata": {
    "ExecuteTime": {
     "end_time": "2024-10-13T15:00:37.793721Z",
     "start_time": "2024-10-13T15:00:37.574260Z"
    }
   },
   "outputs": [
    {
     "data": {
      "image/png": "[encoded data removed]",
      "text/plain": [
       "<Figure size 1500x1500 with 1 Axes>"
      ]
     },
     "metadata": {},
     "output_type": "display_data"
    }
   ],
   "source": [
    "users_without_wrongs_value_counts_df = users_without_wrongs_value_counts.to_frame().reset_index()\n",
    "\n",
    "min_ = users_without_wrongs_value_counts_df['count'].min()\n",
    "max_ = users_without_wrongs_value_counts_df['count'].max()\n",
    "# matplotlib histogram\n",
    "plt.figure(figsize=(15,15))\n",
    "plt.grid()\n",
    "plt.hist(users_without_wrongs_value_counts_df['count'], color = 'blue', edgecolor = 'black', bins = int(users_without_wrongs_value_counts_df.user_id.count()/4))\n",
    "plt.title('Распределение прользователей по кол-ву ответов')\n",
    "plt.xlabel('Кол-во ответов')\n",
    "plt.ylabel('Кол-во пользователей')\n",
    "plt.xticks(np.arange(min_-1, max_+5, 1.0))\n",
    "plt.yticks(np.arange(min_-1, max_+10, 1.0))\n",
    "plt.show()"
   ]
  },
  {
   "cell_type": "markdown",
   "id": "eb338ff9cd8ef209",
   "metadata": {},
   "source": [
    "#### Все ответы ошибочные"
   ]
  },
  {
   "cell_type": "code",
   "execution_count": 152,
   "id": "7af115d3cceba36",
   "metadata": {
    "ExecuteTime": {
     "end_time": "2024-10-13T14:57:19.403836Z",
     "start_time": "2024-10-13T14:57:19.068276Z"
    }
   },
   "outputs": [
    {
     "data": {
      "text/html": [
       "<div>\n",
       "<style scoped>\n",
       "    .dataframe tbody tr th:only-of-type {\n",
       "        vertical-align: middle;\n",
       "    }\n",
       "\n",
       "    .dataframe tbody tr th {\n",
       "        vertical-align: top;\n",
       "    }\n",
       "\n",
       "    .dataframe thead th {\n",
       "        text-align: right;\n",
       "    }\n",
       "</style>\n",
       "<table border=\"1\" class=\"dataframe\">\n",
       "  <thead>\n",
       "    <tr style=\"text-align: right;\">\n",
       "      <th></th>\n",
       "      <th>row_id</th>\n",
       "      <th>timestamp</th>\n",
       "      <th>user_id</th>\n",
       "      <th>content_id</th>\n",
       "      <th>content_type_id</th>\n",
       "      <th>task_container_id</th>\n",
       "      <th>user_answer</th>\n",
       "      <th>answered_correctly</th>\n",
       "      <th>prior_question_elapsed_time</th>\n",
       "      <th>prior_question_had_explanation</th>\n",
       "    </tr>\n",
       "  </thead>\n",
       "  <tbody>\n",
       "    <tr>\n",
       "      <th>62248</th>\n",
       "      <td>62248</td>\n",
       "      <td>0</td>\n",
       "      <td>1360462</td>\n",
       "      <td>5336</td>\n",
       "      <td>0</td>\n",
       "      <td>0</td>\n",
       "      <td>1</td>\n",
       "      <td>0</td>\n",
       "      <td>NaN</td>\n",
       "      <td>&lt;NA&gt;</td>\n",
       "    </tr>\n",
       "    <tr>\n",
       "      <th>62249</th>\n",
       "      <td>62249</td>\n",
       "      <td>17738</td>\n",
       "      <td>1360462</td>\n",
       "      <td>3553</td>\n",
       "      <td>0</td>\n",
       "      <td>1</td>\n",
       "      <td>1</td>\n",
       "      <td>0</td>\n",
       "      <td>19000.0</td>\n",
       "      <td>False</td>\n",
       "    </tr>\n",
       "    <tr>\n",
       "      <th>62250</th>\n",
       "      <td>62250</td>\n",
       "      <td>42543</td>\n",
       "      <td>1360462</td>\n",
       "      <td>88</td>\n",
       "      <td>0</td>\n",
       "      <td>2</td>\n",
       "      <td>2</td>\n",
       "      <td>0</td>\n",
       "      <td>9000.0</td>\n",
       "      <td>False</td>\n",
       "    </tr>\n",
       "    <tr>\n",
       "      <th>62251</th>\n",
       "      <td>62251</td>\n",
       "      <td>61111</td>\n",
       "      <td>1360462</td>\n",
       "      <td>4934</td>\n",
       "      <td>0</td>\n",
       "      <td>3</td>\n",
       "      <td>3</td>\n",
       "      <td>0</td>\n",
       "      <td>21000.0</td>\n",
       "      <td>False</td>\n",
       "    </tr>\n",
       "    <tr>\n",
       "      <th>62252</th>\n",
       "      <td>62252</td>\n",
       "      <td>87337</td>\n",
       "      <td>1360462</td>\n",
       "      <td>5609</td>\n",
       "      <td>0</td>\n",
       "      <td>4</td>\n",
       "      <td>1</td>\n",
       "      <td>0</td>\n",
       "      <td>9000.0</td>\n",
       "      <td>False</td>\n",
       "    </tr>\n",
       "    <tr>\n",
       "      <th>62253</th>\n",
       "      <td>62253</td>\n",
       "      <td>100838</td>\n",
       "      <td>1360462</td>\n",
       "      <td>3715</td>\n",
       "      <td>0</td>\n",
       "      <td>5</td>\n",
       "      <td>3</td>\n",
       "      <td>0</td>\n",
       "      <td>17000.0</td>\n",
       "      <td>False</td>\n",
       "    </tr>\n",
       "    <tr>\n",
       "      <th>62254</th>\n",
       "      <td>62254</td>\n",
       "      <td>123186</td>\n",
       "      <td>1360462</td>\n",
       "      <td>1002</td>\n",
       "      <td>0</td>\n",
       "      <td>6</td>\n",
       "      <td>0</td>\n",
       "      <td>0</td>\n",
       "      <td>11000.0</td>\n",
       "      <td>False</td>\n",
       "    </tr>\n",
       "    <tr>\n",
       "      <th>965193</th>\n",
       "      <td>965193</td>\n",
       "      <td>0</td>\n",
       "      <td>19887248</td>\n",
       "      <td>6368</td>\n",
       "      <td>0</td>\n",
       "      <td>0</td>\n",
       "      <td>3</td>\n",
       "      <td>0</td>\n",
       "      <td>NaN</td>\n",
       "      <td>&lt;NA&gt;</td>\n",
       "    </tr>\n",
       "    <tr>\n",
       "      <th>1528514</th>\n",
       "      <td>1528514</td>\n",
       "      <td>0</td>\n",
       "      <td>32305524</td>\n",
       "      <td>5078</td>\n",
       "      <td>0</td>\n",
       "      <td>0</td>\n",
       "      <td>2</td>\n",
       "      <td>0</td>\n",
       "      <td>NaN</td>\n",
       "      <td>&lt;NA&gt;</td>\n",
       "    </tr>\n",
       "    <tr>\n",
       "      <th>1528515</th>\n",
       "      <td>1528515</td>\n",
       "      <td>36035</td>\n",
       "      <td>32305524</td>\n",
       "      <td>4637</td>\n",
       "      <td>0</td>\n",
       "      <td>1</td>\n",
       "      <td>0</td>\n",
       "      <td>0</td>\n",
       "      <td>27000.0</td>\n",
       "      <td>False</td>\n",
       "    </tr>\n",
       "  </tbody>\n",
       "</table>\n",
       "</div>"
      ],
      "text/plain": [
       "          row_id  timestamp   user_id  content_id  content_type_id  \\\n",
       "62248      62248          0   1360462        5336                0   \n",
       "62249      62249      17738   1360462        3553                0   \n",
       "62250      62250      42543   1360462          88                0   \n",
       "62251      62251      61111   1360462        4934                0   \n",
       "62252      62252      87337   1360462        5609                0   \n",
       "62253      62253     100838   1360462        3715                0   \n",
       "62254      62254     123186   1360462        1002                0   \n",
       "965193    965193          0  19887248        6368                0   \n",
       "1528514  1528514          0  32305524        5078                0   \n",
       "1528515  1528515      36035  32305524        4637                0   \n",
       "\n",
       "         task_container_id  user_answer  answered_correctly  \\\n",
       "62248                    0            1                   0   \n",
       "62249                    1            1                   0   \n",
       "62250                    2            2                   0   \n",
       "62251                    3            3                   0   \n",
       "62252                    4            1                   0   \n",
       "62253                    5            3                   0   \n",
       "62254                    6            0                   0   \n",
       "965193                   0            3                   0   \n",
       "1528514                  0            2                   0   \n",
       "1528515                  1            0                   0   \n",
       "\n",
       "         prior_question_elapsed_time  prior_question_had_explanation  \n",
       "62248                            NaN                            <NA>  \n",
       "62249                        19000.0                           False  \n",
       "62250                         9000.0                           False  \n",
       "62251                        21000.0                           False  \n",
       "62252                         9000.0                           False  \n",
       "62253                        17000.0                           False  \n",
       "62254                        11000.0                           False  \n",
       "965193                           NaN                            <NA>  \n",
       "1528514                          NaN                            <NA>  \n",
       "1528515                      27000.0                           False  "
      ]
     },
     "execution_count": 152,
     "metadata": {},
     "output_type": "execute_result"
    }
   ],
   "source": [
    "# Все пользователи, у которых нет правильных ответов\n",
    "users_with_wrongs = train_questions[~train_questions.user_id.isin(users_id_with_correct)]\n",
    "users_with_wrongs.head(10)"
   ]
  },
  {
   "cell_type": "code",
   "execution_count": 153,
   "id": "898a19b33af22e85",
   "metadata": {
    "ExecuteTime": {
     "end_time": "2024-10-13T15:00:25.163467Z",
     "start_time": "2024-10-13T15:00:25.160469Z"
    }
   },
   "outputs": [
    {
     "data": {
      "text/plain": [
       "186"
      ]
     },
     "execution_count": 153,
     "metadata": {},
     "output_type": "execute_result"
    }
   ],
   "source": [
    "''' Кол-во пользователей только с ошибочными ответами '''\n",
    "users_with_wrongs.user_id.nunique()"
   ]
  },
  {
   "cell_type": "code",
   "execution_count": 154,
   "id": "c1b9d183b0f1a2d1",
   "metadata": {
    "ExecuteTime": {
     "end_time": "2024-10-13T15:00:26.226824Z",
     "start_time": "2024-10-13T15:00:26.223093Z"
    }
   },
   "outputs": [
    {
     "data": {
      "text/plain": [
       "user_id\n",
       "1260301701    33\n",
       "553442376     30\n",
       "839792187     30\n",
       "569021000     21\n",
       "857552040     19\n",
       "              ..\n",
       "1346773005     1\n",
       "346289863      1\n",
       "708495251      1\n",
       "719804730      1\n",
       "470439521      1\n",
       "Name: count, Length: 186, dtype: int64"
      ]
     },
     "execution_count": 154,
     "metadata": {},
     "output_type": "execute_result"
    }
   ],
   "source": [
    "''' Распределение пользователей по кол-ву нерешенных задач '''\n",
    "users_with_wrongs_value_counts = users_with_wrongs.user_id.value_counts()\n",
    "users_with_wrongs_value_counts"
   ]
  },
  {
   "cell_type": "code",
   "execution_count": 158,
   "id": "a8164fb7ba51c38e",
   "metadata": {
    "ExecuteTime": {
     "end_time": "2024-10-13T15:01:43.345618Z",
     "start_time": "2024-10-13T15:01:43.133359Z"
    }
   },
   "outputs": [
    {
     "data": {
      "image/png": "[encoded data removed]",
      "text/plain": [
       "<Figure size 1500x1500 with 1 Axes>"
      ]
     },
     "metadata": {},
     "output_type": "display_data"
    }
   ],
   "source": [
    "users_with_wrongs_value_counts_df = users_with_wrongs_value_counts.to_frame().reset_index()\n",
    "\n",
    "min_ = users_with_wrongs_value_counts_df['count'].min()\n",
    "max_ = users_with_wrongs_value_counts_df['count'].max()\n",
    "# matplotlib histogram\n",
    "plt.figure(figsize=(15,15))\n",
    "plt.grid()\n",
    "plt.hist(users_with_wrongs_value_counts_df['count'], color = 'blue', edgecolor = 'black', bins = int(users_with_wrongs_value_counts_df.user_id.count()/4))\n",
    "plt.title('Распределение прользователей по кол-ву ответов')\n",
    "plt.xlabel('Кол-во ответов')\n",
    "plt.ylabel('Кол-во пользователей')\n",
    "plt.xticks(np.arange(min_-1, max_+5, 1.0))\n",
    "plt.yticks(np.arange(min_-1, max_+20, 1.0))\n",
    "plt.show()"
   ]
  }
 ],
 "metadata": {
  "kernelspec": {
   "display_name": "Python 3 (ipykernel)",
   "language": "python",
   "name": "python3"
  },
  "language_info": {
   "codemirror_mode": {
    "name": "ipython",
    "version": 3
   },
   "file_extension": ".py",
   "mimetype": "text/x-python",
   "name": "python",
   "nbconvert_exporter": "python",
   "pygments_lexer": "ipython3",
   "version": "3.12.7"
  }
 },
 "nbformat": 4,
 "nbformat_minor": 5
}
